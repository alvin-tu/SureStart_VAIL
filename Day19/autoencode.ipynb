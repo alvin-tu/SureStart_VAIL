{
 "cells": [
  {
   "cell_type": "code",
   "execution_count": 1,
   "id": "rising-attention",
   "metadata": {},
   "outputs": [
    {
     "name": "stderr",
     "output_type": "stream",
     "text": [
      "Using TensorFlow backend.\n",
      "C:\\Users\\Alvin Tu\\Anaconda3\\lib\\site-packages\\tensorflow\\python\\framework\\dtypes.py:516: FutureWarning: Passing (type, 1) or '1type' as a synonym of type is deprecated; in a future version of numpy, it will be understood as (type, (1,)) / '(1,)type'.\n",
      "  _np_qint8 = np.dtype([(\"qint8\", np.int8, 1)])\n",
      "C:\\Users\\Alvin Tu\\Anaconda3\\lib\\site-packages\\tensorflow\\python\\framework\\dtypes.py:517: FutureWarning: Passing (type, 1) or '1type' as a synonym of type is deprecated; in a future version of numpy, it will be understood as (type, (1,)) / '(1,)type'.\n",
      "  _np_quint8 = np.dtype([(\"quint8\", np.uint8, 1)])\n",
      "C:\\Users\\Alvin Tu\\Anaconda3\\lib\\site-packages\\tensorflow\\python\\framework\\dtypes.py:518: FutureWarning: Passing (type, 1) or '1type' as a synonym of type is deprecated; in a future version of numpy, it will be understood as (type, (1,)) / '(1,)type'.\n",
      "  _np_qint16 = np.dtype([(\"qint16\", np.int16, 1)])\n",
      "C:\\Users\\Alvin Tu\\Anaconda3\\lib\\site-packages\\tensorflow\\python\\framework\\dtypes.py:519: FutureWarning: Passing (type, 1) or '1type' as a synonym of type is deprecated; in a future version of numpy, it will be understood as (type, (1,)) / '(1,)type'.\n",
      "  _np_quint16 = np.dtype([(\"quint16\", np.uint16, 1)])\n",
      "C:\\Users\\Alvin Tu\\Anaconda3\\lib\\site-packages\\tensorflow\\python\\framework\\dtypes.py:520: FutureWarning: Passing (type, 1) or '1type' as a synonym of type is deprecated; in a future version of numpy, it will be understood as (type, (1,)) / '(1,)type'.\n",
      "  _np_qint32 = np.dtype([(\"qint32\", np.int32, 1)])\n",
      "C:\\Users\\Alvin Tu\\Anaconda3\\lib\\site-packages\\tensorflow\\python\\framework\\dtypes.py:525: FutureWarning: Passing (type, 1) or '1type' as a synonym of type is deprecated; in a future version of numpy, it will be understood as (type, (1,)) / '(1,)type'.\n",
      "  np_resource = np.dtype([(\"resource\", np.ubyte, 1)])\n",
      "C:\\Users\\Alvin Tu\\Anaconda3\\lib\\site-packages\\tensorboard\\compat\\tensorflow_stub\\dtypes.py:541: FutureWarning: Passing (type, 1) or '1type' as a synonym of type is deprecated; in a future version of numpy, it will be understood as (type, (1,)) / '(1,)type'.\n",
      "  _np_qint8 = np.dtype([(\"qint8\", np.int8, 1)])\n",
      "C:\\Users\\Alvin Tu\\Anaconda3\\lib\\site-packages\\tensorboard\\compat\\tensorflow_stub\\dtypes.py:542: FutureWarning: Passing (type, 1) or '1type' as a synonym of type is deprecated; in a future version of numpy, it will be understood as (type, (1,)) / '(1,)type'.\n",
      "  _np_quint8 = np.dtype([(\"quint8\", np.uint8, 1)])\n",
      "C:\\Users\\Alvin Tu\\Anaconda3\\lib\\site-packages\\tensorboard\\compat\\tensorflow_stub\\dtypes.py:543: FutureWarning: Passing (type, 1) or '1type' as a synonym of type is deprecated; in a future version of numpy, it will be understood as (type, (1,)) / '(1,)type'.\n",
      "  _np_qint16 = np.dtype([(\"qint16\", np.int16, 1)])\n",
      "C:\\Users\\Alvin Tu\\Anaconda3\\lib\\site-packages\\tensorboard\\compat\\tensorflow_stub\\dtypes.py:544: FutureWarning: Passing (type, 1) or '1type' as a synonym of type is deprecated; in a future version of numpy, it will be understood as (type, (1,)) / '(1,)type'.\n",
      "  _np_quint16 = np.dtype([(\"quint16\", np.uint16, 1)])\n",
      "C:\\Users\\Alvin Tu\\Anaconda3\\lib\\site-packages\\tensorboard\\compat\\tensorflow_stub\\dtypes.py:545: FutureWarning: Passing (type, 1) or '1type' as a synonym of type is deprecated; in a future version of numpy, it will be understood as (type, (1,)) / '(1,)type'.\n",
      "  _np_qint32 = np.dtype([(\"qint32\", np.int32, 1)])\n",
      "C:\\Users\\Alvin Tu\\Anaconda3\\lib\\site-packages\\tensorboard\\compat\\tensorflow_stub\\dtypes.py:550: FutureWarning: Passing (type, 1) or '1type' as a synonym of type is deprecated; in a future version of numpy, it will be understood as (type, (1,)) / '(1,)type'.\n",
      "  np_resource = np.dtype([(\"resource\", np.ubyte, 1)])\n"
     ]
    }
   ],
   "source": [
    "import keras\n",
    "from keras import layers\n",
    "\n",
    "# This is the size of our encoded representations\n",
    "encoding_dim = 32  # 32 floats -> compression of factor 24.5, assuming the input is 784 floats\n",
    "\n",
    "# This is our input image\n",
    "input_img = keras.Input(shape=(784,))\n",
    "# \"encoded\" is the encoded representation of the input\n",
    "encoded = layers.Dense(encoding_dim, activation='relu')(input_img)\n",
    "# \"decoded\" is the lossy reconstruction of the input\n",
    "decoded = layers.Dense(784, activation='sigmoid')(encoded)\n",
    "\n",
    "# This model maps an input to its reconstruction\n",
    "autoencoder = keras.Model(input_img, decoded)"
   ]
  },
  {
   "cell_type": "code",
   "execution_count": 2,
   "id": "excess-albania",
   "metadata": {},
   "outputs": [],
   "source": [
    "# This model maps an input to its encoded representation\n",
    "encoder = keras.Model(input_img, encoded)"
   ]
  },
  {
   "cell_type": "code",
   "execution_count": 3,
   "id": "stable-extreme",
   "metadata": {},
   "outputs": [],
   "source": [
    "# This is our encoded (32-dimensional) input\n",
    "encoded_input = keras.Input(shape=(encoding_dim,))\n",
    "# Retrieve the last layer of the autoencoder model\n",
    "decoder_layer = autoencoder.layers[-1]\n",
    "# Create the decoder model\n",
    "decoder = keras.Model(encoded_input, decoder_layer(encoded_input))"
   ]
  },
  {
   "cell_type": "code",
   "execution_count": 4,
   "id": "opening-aquarium",
   "metadata": {},
   "outputs": [
    {
     "name": "stdout",
     "output_type": "stream",
     "text": [
      "WARNING:tensorflow:From C:\\Users\\Alvin Tu\\Anaconda3\\lib\\site-packages\\tensorflow\\python\\ops\\nn_impl.py:180: add_dispatch_support.<locals>.wrapper (from tensorflow.python.ops.array_ops) is deprecated and will be removed in a future version.\n",
      "Instructions for updating:\n",
      "Use tf.where in 2.0, which has the same broadcast rule as np.where\n"
     ]
    }
   ],
   "source": [
    "autoencoder.compile(optimizer='adam', loss='binary_crossentropy')"
   ]
  },
  {
   "cell_type": "code",
   "execution_count": 5,
   "id": "partial-prefix",
   "metadata": {},
   "outputs": [
    {
     "name": "stdout",
     "output_type": "stream",
     "text": [
      "Downloading data from https://s3.amazonaws.com/img-datasets/mnist.npz\n",
      "11493376/11490434 [==============================] - 5s 0us/step\n"
     ]
    }
   ],
   "source": [
    "from keras.datasets import mnist\n",
    "import numpy as np\n",
    "(x_train, _), (x_test, _) = mnist.load_data()"
   ]
  },
  {
   "cell_type": "code",
   "execution_count": 6,
   "id": "fewer-joining",
   "metadata": {},
   "outputs": [
    {
     "name": "stdout",
     "output_type": "stream",
     "text": [
      "(60000, 784)\n",
      "(10000, 784)\n"
     ]
    }
   ],
   "source": [
    "x_train = x_train.astype('float32') / 255.\n",
    "x_test = x_test.astype('float32') / 255.\n",
    "x_train = x_train.reshape((len(x_train), np.prod(x_train.shape[1:])))\n",
    "x_test = x_test.reshape((len(x_test), np.prod(x_test.shape[1:])))\n",
    "print(x_train.shape)\n",
    "print(x_test.shape)"
   ]
  },
  {
   "cell_type": "code",
   "execution_count": 7,
   "id": "valid-greece",
   "metadata": {},
   "outputs": [
    {
     "name": "stdout",
     "output_type": "stream",
     "text": [
      "WARNING:tensorflow:From C:\\Users\\Alvin Tu\\Anaconda3\\lib\\site-packages\\keras\\backend\\tensorflow_backend.py:422: The name tf.global_variables is deprecated. Please use tf.compat.v1.global_variables instead.\n",
      "\n",
      "Train on 60000 samples, validate on 10000 samples\n",
      "Epoch 1/50\n",
      "60000/60000 [==============================] - 2s 26us/step - loss: 0.2770 - val_loss: 0.1880\n",
      "Epoch 2/50\n",
      "60000/60000 [==============================] - 1s 19us/step - loss: 0.1699 - val_loss: 0.1525\n",
      "Epoch 3/50\n",
      "60000/60000 [==============================] - 1s 20us/step - loss: 0.1436 - val_loss: 0.1331\n",
      "Epoch 4/50\n",
      "60000/60000 [==============================] - 1s 22us/step - loss: 0.1278 - val_loss: 0.1205\n",
      "Epoch 5/50\n",
      "60000/60000 [==============================] - 1s 19us/step - loss: 0.1175 - val_loss: 0.1122\n",
      "Epoch 6/50\n",
      "60000/60000 [==============================] - 1s 20us/step - loss: 0.1105 - val_loss: 0.1065\n",
      "Epoch 7/50\n",
      "60000/60000 [==============================] - 1s 19us/step - loss: 0.1057 - val_loss: 0.1026\n",
      "Epoch 8/50\n",
      "60000/60000 [==============================] - 1s 18us/step - loss: 0.1023 - val_loss: 0.0998\n",
      "Epoch 9/50\n",
      "60000/60000 [==============================] - 1s 20us/step - loss: 0.0997 - val_loss: 0.0974\n",
      "Epoch 10/50\n",
      "60000/60000 [==============================] - 1s 20us/step - loss: 0.0977 - val_loss: 0.0958\n",
      "Epoch 11/50\n",
      "60000/60000 [==============================] - 1s 18us/step - loss: 0.0964 - val_loss: 0.0946\n",
      "Epoch 12/50\n",
      "60000/60000 [==============================] - 1s 17us/step - loss: 0.0955 - val_loss: 0.0938\n",
      "Epoch 13/50\n",
      "60000/60000 [==============================] - 1s 17us/step - loss: 0.0949 - val_loss: 0.0934\n",
      "Epoch 14/50\n",
      "60000/60000 [==============================] - 1s 18us/step - loss: 0.0945 - val_loss: 0.0931\n",
      "Epoch 15/50\n",
      "60000/60000 [==============================] - 1s 18us/step - loss: 0.0942 - val_loss: 0.0928\n",
      "Epoch 16/50\n",
      "60000/60000 [==============================] - 1s 19us/step - loss: 0.0940 - val_loss: 0.0927\n",
      "Epoch 17/50\n",
      "60000/60000 [==============================] - 1s 19us/step - loss: 0.0939 - val_loss: 0.0925\n",
      "Epoch 18/50\n",
      "60000/60000 [==============================] - 1s 19us/step - loss: 0.0938 - val_loss: 0.0924\n",
      "Epoch 19/50\n",
      "60000/60000 [==============================] - 1s 16us/step - loss: 0.0937 - val_loss: 0.0923\n",
      "Epoch 20/50\n",
      "60000/60000 [==============================] - 1s 16us/step - loss: 0.0936 - val_loss: 0.0923\n",
      "Epoch 21/50\n",
      "60000/60000 [==============================] - 1s 16us/step - loss: 0.0935 - val_loss: 0.0922\n",
      "Epoch 22/50\n",
      "60000/60000 [==============================] - 1s 16us/step - loss: 0.0934 - val_loss: 0.0922\n",
      "Epoch 23/50\n",
      "60000/60000 [==============================] - 1s 18us/step - loss: 0.0934 - val_loss: 0.0921\n",
      "Epoch 24/50\n",
      "60000/60000 [==============================] - 1s 19us/step - loss: 0.0933 - val_loss: 0.0921\n",
      "Epoch 25/50\n",
      "60000/60000 [==============================] - 1s 18us/step - loss: 0.0933 - val_loss: 0.0920\n",
      "Epoch 26/50\n",
      "60000/60000 [==============================] - 1s 20us/step - loss: 0.0932 - val_loss: 0.0920\n",
      "Epoch 27/50\n",
      "60000/60000 [==============================] - 1s 19us/step - loss: 0.0932 - val_loss: 0.0920\n",
      "Epoch 28/50\n",
      "60000/60000 [==============================] - 1s 18us/step - loss: 0.0931 - val_loss: 0.0919\n",
      "Epoch 29/50\n",
      "60000/60000 [==============================] - 1s 17us/step - loss: 0.0931 - val_loss: 0.0919\n",
      "Epoch 30/50\n",
      "60000/60000 [==============================] - 1s 17us/step - loss: 0.0931 - val_loss: 0.0918\n",
      "Epoch 31/50\n",
      "60000/60000 [==============================] - 1s 17us/step - loss: 0.0931 - val_loss: 0.0919\n",
      "Epoch 32/50\n",
      "60000/60000 [==============================] - 1s 17us/step - loss: 0.0930 - val_loss: 0.0918\n",
      "Epoch 33/50\n",
      "60000/60000 [==============================] - 1s 18us/step - loss: 0.0930 - val_loss: 0.0918\n",
      "Epoch 34/50\n",
      "60000/60000 [==============================] - 1s 18us/step - loss: 0.0930 - val_loss: 0.0919\n",
      "Epoch 35/50\n",
      "60000/60000 [==============================] - 1s 18us/step - loss: 0.0930 - val_loss: 0.0918\n",
      "Epoch 36/50\n",
      "60000/60000 [==============================] - 1s 17us/step - loss: 0.0929 - val_loss: 0.0918\n",
      "Epoch 37/50\n",
      "60000/60000 [==============================] - 1s 17us/step - loss: 0.0929 - val_loss: 0.0917\n",
      "Epoch 38/50\n",
      "60000/60000 [==============================] - 1s 17us/step - loss: 0.0929 - val_loss: 0.0919\n",
      "Epoch 39/50\n",
      "60000/60000 [==============================] - 1s 18us/step - loss: 0.0929 - val_loss: 0.0917\n",
      "Epoch 40/50\n",
      "60000/60000 [==============================] - 1s 17us/step - loss: 0.0929 - val_loss: 0.0917\n",
      "Epoch 41/50\n",
      "60000/60000 [==============================] - 1s 18us/step - loss: 0.0929 - val_loss: 0.0917\n",
      "Epoch 42/50\n",
      "60000/60000 [==============================] - 1s 18us/step - loss: 0.0928 - val_loss: 0.0917\n",
      "Epoch 43/50\n",
      "60000/60000 [==============================] - 1s 16us/step - loss: 0.0928 - val_loss: 0.0917\n",
      "Epoch 44/50\n",
      "60000/60000 [==============================] - 1s 17us/step - loss: 0.0928 - val_loss: 0.0917\n",
      "Epoch 45/50\n",
      "60000/60000 [==============================] - 1s 17us/step - loss: 0.0928 - val_loss: 0.0916\n",
      "Epoch 46/50\n",
      "60000/60000 [==============================] - 1s 16us/step - loss: 0.0928 - val_loss: 0.0916\n",
      "Epoch 47/50\n",
      "60000/60000 [==============================] - 1s 20us/step - loss: 0.0928 - val_loss: 0.0917\n",
      "Epoch 48/50\n",
      "60000/60000 [==============================] - 1s 19us/step - loss: 0.0928 - val_loss: 0.0916\n",
      "Epoch 49/50\n",
      "60000/60000 [==============================] - 1s 21us/step - loss: 0.0927 - val_loss: 0.0916\n",
      "Epoch 50/50\n",
      "60000/60000 [==============================] - 1s 18us/step - loss: 0.0927 - val_loss: 0.0917\n"
     ]
    },
    {
     "data": {
      "text/plain": [
       "<keras.callbacks.callbacks.History at 0x29115a3d400>"
      ]
     },
     "execution_count": 7,
     "metadata": {},
     "output_type": "execute_result"
    }
   ],
   "source": [
    "autoencoder.fit(x_train, x_train,\n",
    "                epochs=50,\n",
    "                batch_size=256,\n",
    "                shuffle=True,\n",
    "                validation_data=(x_test, x_test))"
   ]
  },
  {
   "cell_type": "code",
   "execution_count": 8,
   "id": "north-documentary",
   "metadata": {},
   "outputs": [],
   "source": [
    "# Encode and decode some digits\n",
    "encoded_imgs = encoder.predict(x_test)\n",
    "decoded_imgs = decoder.predict(encoded_imgs)"
   ]
  },
  {
   "cell_type": "code",
   "execution_count": 9,
   "id": "dental-humanity",
   "metadata": {},
   "outputs": [
    {
     "data": {
      "image/png": "[encoded data removed]",
      "text/plain": [
       "<Figure size 1440x288 with 20 Axes>"
      ]
     },
     "metadata": {
      "needs_background": "light"
     },
     "output_type": "display_data"
    }
   ],
   "source": [
    "# Use Matplotlib \n",
    "import matplotlib.pyplot as plt\n",
    "\n",
    "n = 10  # How many digits we will display\n",
    "plt.figure(figsize=(20, 4))\n",
    "for i in range(n):\n",
    "    # Display original\n",
    "    ax = plt.subplot(2, n, i + 1)\n",
    "    plt.imshow(x_test[i].reshape(28, 28))\n",
    "    plt.gray()\n",
    "    ax.get_xaxis().set_visible(False)\n",
    "    ax.get_yaxis().set_visible(False)\n",
    "\n",
    "    # Display reconstruction\n",
    "    ax = plt.subplot(2, n, i + 1 + n)\n",
    "    plt.imshow(decoded_imgs[i].reshape(28, 28))\n",
    "    plt.gray()\n",
    "    ax.get_xaxis().set_visible(False)\n",
    "    ax.get_yaxis().set_visible(False)\n",
    "plt.show()"
   ]
  },
  {
   "cell_type": "code",
   "execution_count": 10,
   "id": "following-complement",
   "metadata": {},
   "outputs": [],
   "source": [
    "from keras import regularizers\n",
    "\n",
    "encoding_dim = 32\n",
    "\n",
    "input_img = keras.Input(shape=(784,))\n",
    "# Add a Dense layer with a L1 activity regularizer\n",
    "encoded = layers.Dense(encoding_dim, activation='relu',\n",
    "                activity_regularizer=regularizers.l1(10e-5))(input_img)\n",
    "decoded = layers.Dense(784, activation='sigmoid')(encoded)\n",
    "\n",
    "autoencoder = keras.Model(input_img, decoded)"
   ]
  },
  {
   "cell_type": "code",
   "execution_count": 11,
   "id": "pacific-congress",
   "metadata": {},
   "outputs": [],
   "source": [
    "input_img = keras.Input(shape=(784,))\n",
    "encoded = layers.Dense(128, activation='relu')(input_img)\n",
    "encoded = layers.Dense(64, activation='relu')(encoded)\n",
    "encoded = layers.Dense(32, activation='relu')(encoded)\n",
    "\n",
    "decoded = layers.Dense(64, activation='relu')(encoded)\n",
    "decoded = layers.Dense(128, activation='relu')(decoded)\n",
    "decoded = layers.Dense(784, activation='sigmoid')(decoded)"
   ]
  },
  {
   "cell_type": "code",
   "execution_count": 12,
   "id": "declared-flavor",
   "metadata": {},
   "outputs": [
    {
     "name": "stdout",
     "output_type": "stream",
     "text": [
      "Train on 60000 samples, validate on 10000 samples\n",
      "Epoch 1/100\n",
      "60000/60000 [==============================] - 2s 38us/step - loss: 0.2527 - val_loss: 0.1697\n",
      "Epoch 2/100\n",
      "60000/60000 [==============================] - 2s 31us/step - loss: 0.1499 - val_loss: 0.1356\n",
      "Epoch 3/100\n",
      "60000/60000 [==============================] - 2s 29us/step - loss: 0.1301 - val_loss: 0.1227\n",
      "Epoch 4/100\n",
      "60000/60000 [==============================] - 2s 30us/step - loss: 0.1206 - val_loss: 0.1156\n",
      "Epoch 5/100\n",
      "60000/60000 [==============================] - 2s 29us/step - loss: 0.1148 - val_loss: 0.1114\n",
      "Epoch 6/100\n",
      "60000/60000 [==============================] - 2s 30us/step - loss: 0.1111 - val_loss: 0.1081\n",
      "Epoch 7/100\n",
      "60000/60000 [==============================] - 2s 30us/step - loss: 0.1079 - val_loss: 0.1051\n",
      "Epoch 8/100\n",
      "60000/60000 [==============================] - 2s 28us/step - loss: 0.1051 - val_loss: 0.1029\n",
      "Epoch 9/100\n",
      "60000/60000 [==============================] - 2s 29us/step - loss: 0.1030 - val_loss: 0.1007\n",
      "Epoch 10/100\n",
      "60000/60000 [==============================] - 2s 31us/step - loss: 0.1013 - val_loss: 0.0994\n",
      "Epoch 11/100\n",
      "60000/60000 [==============================] - 2s 33us/step - loss: 0.0998 - val_loss: 0.0978\n",
      "Epoch 12/100\n",
      "60000/60000 [==============================] - 2s 33us/step - loss: 0.0984 - val_loss: 0.0966\n",
      "Epoch 13/100\n",
      "60000/60000 [==============================] - 2s 31us/step - loss: 0.0970 - val_loss: 0.0954\n",
      "Epoch 14/100\n",
      "60000/60000 [==============================] - 2s 30us/step - loss: 0.0958 - val_loss: 0.0944\n",
      "Epoch 15/100\n",
      "60000/60000 [==============================] - 2s 30us/step - loss: 0.0947 - val_loss: 0.0930\n",
      "Epoch 16/100\n",
      "60000/60000 [==============================] - 2s 29us/step - loss: 0.0937 - val_loss: 0.0925\n",
      "Epoch 17/100\n",
      "60000/60000 [==============================] - 2s 28us/step - loss: 0.0929 - val_loss: 0.0919\n",
      "Epoch 18/100\n",
      "60000/60000 [==============================] - 2s 31us/step - loss: 0.0921 - val_loss: 0.0908\n",
      "Epoch 19/100\n",
      "60000/60000 [==============================] - 2s 30us/step - loss: 0.0914 - val_loss: 0.0902\n",
      "Epoch 20/100\n",
      "60000/60000 [==============================] - 2s 30us/step - loss: 0.0908 - val_loss: 0.0896\n",
      "Epoch 21/100\n",
      "60000/60000 [==============================] - 2s 30us/step - loss: 0.0903 - val_loss: 0.0891\n",
      "Epoch 22/100\n",
      "60000/60000 [==============================] - 2s 31us/step - loss: 0.0897 - val_loss: 0.0890\n",
      "Epoch 23/100\n",
      "60000/60000 [==============================] - 2s 30us/step - loss: 0.0892 - val_loss: 0.0884\n",
      "Epoch 24/100\n",
      "60000/60000 [==============================] - 2s 31us/step - loss: 0.0888 - val_loss: 0.0881\n",
      "Epoch 25/100\n",
      "60000/60000 [==============================] - 2s 32us/step - loss: 0.0883 - val_loss: 0.0874\n",
      "Epoch 26/100\n",
      "60000/60000 [==============================] - 2s 27us/step - loss: 0.0879 - val_loss: 0.0872\n",
      "Epoch 27/100\n",
      "60000/60000 [==============================] - 2s 32us/step - loss: 0.0875 - val_loss: 0.0868\n",
      "Epoch 28/100\n",
      "60000/60000 [==============================] - 2s 29us/step - loss: 0.0872 - val_loss: 0.0862\n",
      "Epoch 29/100\n",
      "60000/60000 [==============================] - 2s 30us/step - loss: 0.0868 - val_loss: 0.0860\n",
      "Epoch 30/100\n",
      "60000/60000 [==============================] - 2s 29us/step - loss: 0.0865 - val_loss: 0.0858\n",
      "Epoch 31/100\n",
      "60000/60000 [==============================] - 2s 30us/step - loss: 0.0862 - val_loss: 0.0853\n",
      "Epoch 32/100\n",
      "60000/60000 [==============================] - 2s 30us/step - loss: 0.0860 - val_loss: 0.0853\n",
      "Epoch 33/100\n",
      "60000/60000 [==============================] - 2s 28us/step - loss: 0.0857 - val_loss: 0.0852\n",
      "Epoch 34/100\n",
      "60000/60000 [==============================] - 2s 30us/step - loss: 0.0855 - val_loss: 0.0853\n",
      "Epoch 35/100\n",
      "60000/60000 [==============================] - 2s 29us/step - loss: 0.0852 - val_loss: 0.0846\n",
      "Epoch 36/100\n",
      "60000/60000 [==============================] - 2s 30us/step - loss: 0.0850 - val_loss: 0.0844\n",
      "Epoch 37/100\n",
      "60000/60000 [==============================] - 2s 27us/step - loss: 0.0848 - val_loss: 0.0844\n",
      "Epoch 38/100\n",
      "60000/60000 [==============================] - 2s 32us/step - loss: 0.0847 - val_loss: 0.0840\n",
      "Epoch 39/100\n",
      "60000/60000 [==============================] - 2s 31us/step - loss: 0.0845 - val_loss: 0.0840\n",
      "Epoch 40/100\n",
      "60000/60000 [==============================] - 2s 30us/step - loss: 0.0843 - val_loss: 0.0838\n",
      "Epoch 41/100\n",
      "60000/60000 [==============================] - 2s 29us/step - loss: 0.0841 - val_loss: 0.0839\n",
      "Epoch 42/100\n",
      "60000/60000 [==============================] - 2s 29us/step - loss: 0.0840 - val_loss: 0.0836\n",
      "Epoch 43/100\n",
      "60000/60000 [==============================] - 2s 31us/step - loss: 0.0838 - val_loss: 0.0833\n",
      "Epoch 44/100\n",
      "60000/60000 [==============================] - 2s 31us/step - loss: 0.0836 - val_loss: 0.0830\n",
      "Epoch 45/100\n",
      "60000/60000 [==============================] - 2s 30us/step - loss: 0.0835 - val_loss: 0.0831\n",
      "Epoch 46/100\n",
      "60000/60000 [==============================] - 2s 32us/step - loss: 0.0834 - val_loss: 0.0831\n",
      "Epoch 47/100\n",
      "60000/60000 [==============================] - 2s 32us/step - loss: 0.0832 - val_loss: 0.0833\n",
      "Epoch 48/100\n",
      "60000/60000 [==============================] - 2s 31us/step - loss: 0.0831 - val_loss: 0.0826\n",
      "Epoch 49/100\n",
      "60000/60000 [==============================] - 2s 30us/step - loss: 0.0830 - val_loss: 0.0825\n",
      "Epoch 50/100\n",
      "60000/60000 [==============================] - 2s 30us/step - loss: 0.0828 - val_loss: 0.0824\n",
      "Epoch 51/100\n",
      "60000/60000 [==============================] - 2s 28us/step - loss: 0.0828 - val_loss: 0.0822\n",
      "Epoch 52/100\n",
      "60000/60000 [==============================] - 2s 30us/step - loss: 0.0826 - val_loss: 0.0822\n",
      "Epoch 53/100\n",
      "60000/60000 [==============================] - 2s 31us/step - loss: 0.0826 - val_loss: 0.0821\n",
      "Epoch 54/100\n",
      "60000/60000 [==============================] - 2s 32us/step - loss: 0.0824 - val_loss: 0.0824\n",
      "Epoch 55/100\n",
      "60000/60000 [==============================] - 2s 29us/step - loss: 0.0823 - val_loss: 0.0823\n",
      "Epoch 56/100\n",
      "60000/60000 [==============================] - 2s 33us/step - loss: 0.0823 - val_loss: 0.0819\n",
      "Epoch 57/100\n",
      "60000/60000 [==============================] - 2s 30us/step - loss: 0.0822 - val_loss: 0.0819\n",
      "Epoch 58/100\n",
      "60000/60000 [==============================] - 2s 32us/step - loss: 0.0820 - val_loss: 0.0818\n",
      "Epoch 59/100\n",
      "60000/60000 [==============================] - 2s 29us/step - loss: 0.0819 - val_loss: 0.0816\n",
      "Epoch 60/100\n",
      "60000/60000 [==============================] - 2s 27us/step - loss: 0.0819 - val_loss: 0.0817\n",
      "Epoch 61/100\n",
      "60000/60000 [==============================] - 2s 26us/step - loss: 0.0818 - val_loss: 0.0819\n",
      "Epoch 62/100\n",
      "60000/60000 [==============================] - 2s 29us/step - loss: 0.0817 - val_loss: 0.0816\n",
      "Epoch 63/100\n",
      "60000/60000 [==============================] - 2s 27us/step - loss: 0.0816 - val_loss: 0.0816\n",
      "Epoch 64/100\n",
      "60000/60000 [==============================] - 2s 29us/step - loss: 0.0815 - val_loss: 0.0813\n",
      "Epoch 65/100\n",
      "60000/60000 [==============================] - 2s 29us/step - loss: 0.0815 - val_loss: 0.0813\n",
      "Epoch 66/100\n",
      "60000/60000 [==============================] - 2s 29us/step - loss: 0.0814 - val_loss: 0.0814\n",
      "Epoch 67/100\n",
      "60000/60000 [==============================] - 2s 27us/step - loss: 0.0814 - val_loss: 0.0812\n",
      "Epoch 68/100\n",
      "60000/60000 [==============================] - 2s 30us/step - loss: 0.0813 - val_loss: 0.0809\n",
      "Epoch 69/100\n",
      "60000/60000 [==============================] - 2s 30us/step - loss: 0.0812 - val_loss: 0.0810\n",
      "Epoch 70/100\n",
      "60000/60000 [==============================] - 2s 28us/step - loss: 0.0811 - val_loss: 0.0811\n",
      "Epoch 71/100\n",
      "60000/60000 [==============================] - 2s 29us/step - loss: 0.0811 - val_loss: 0.0810\n",
      "Epoch 72/100\n",
      "60000/60000 [==============================] - 2s 31us/step - loss: 0.0810 - val_loss: 0.0807\n",
      "Epoch 73/100\n",
      "60000/60000 [==============================] - 2s 29us/step - loss: 0.0810 - val_loss: 0.0806\n",
      "Epoch 74/100\n",
      "60000/60000 [==============================] - 2s 29us/step - loss: 0.0809 - val_loss: 0.0807\n",
      "Epoch 75/100\n",
      "60000/60000 [==============================] - 2s 29us/step - loss: 0.0809 - val_loss: 0.0808\n",
      "Epoch 76/100\n",
      "60000/60000 [==============================] - 2s 29us/step - loss: 0.0808 - val_loss: 0.0806\n",
      "Epoch 77/100\n"
     ]
    },
    {
     "name": "stdout",
     "output_type": "stream",
     "text": [
      "60000/60000 [==============================] - 2s 33us/step - loss: 0.0808 - val_loss: 0.0809\n",
      "Epoch 78/100\n",
      "60000/60000 [==============================] - 2s 30us/step - loss: 0.0807 - val_loss: 0.0806\n",
      "Epoch 79/100\n",
      "60000/60000 [==============================] - 2s 28us/step - loss: 0.0807 - val_loss: 0.0803\n",
      "Epoch 80/100\n",
      "60000/60000 [==============================] - 2s 28us/step - loss: 0.0806 - val_loss: 0.0804\n",
      "Epoch 81/100\n",
      "60000/60000 [==============================] - 2s 31us/step - loss: 0.0806 - val_loss: 0.0804\n",
      "Epoch 82/100\n",
      "60000/60000 [==============================] - 2s 32us/step - loss: 0.0806 - val_loss: 0.0805\n",
      "Epoch 83/100\n",
      "60000/60000 [==============================] - 2s 29us/step - loss: 0.0805 - val_loss: 0.0804\n",
      "Epoch 84/100\n",
      "60000/60000 [==============================] - 2s 30us/step - loss: 0.0805 - val_loss: 0.0804\n",
      "Epoch 85/100\n",
      "60000/60000 [==============================] - 2s 31us/step - loss: 0.0805 - val_loss: 0.0804\n",
      "Epoch 86/100\n",
      "60000/60000 [==============================] - 2s 29us/step - loss: 0.0804 - val_loss: 0.0802\n",
      "Epoch 87/100\n",
      "60000/60000 [==============================] - 2s 30us/step - loss: 0.0804 - val_loss: 0.0802\n",
      "Epoch 88/100\n",
      "60000/60000 [==============================] - 2s 32us/step - loss: 0.0804 - val_loss: 0.0803\n",
      "Epoch 89/100\n",
      "60000/60000 [==============================] - 2s 29us/step - loss: 0.0803 - val_loss: 0.0803\n",
      "Epoch 90/100\n",
      "60000/60000 [==============================] - 2s 29us/step - loss: 0.0803 - val_loss: 0.0802\n",
      "Epoch 91/100\n",
      "60000/60000 [==============================] - 2s 30us/step - loss: 0.0803 - val_loss: 0.0803\n",
      "Epoch 92/100\n",
      "60000/60000 [==============================] - 2s 31us/step - loss: 0.0802 - val_loss: 0.0801\n",
      "Epoch 93/100\n",
      "60000/60000 [==============================] - 2s 29us/step - loss: 0.0802 - val_loss: 0.0800\n",
      "Epoch 94/100\n",
      "60000/60000 [==============================] - 2s 29us/step - loss: 0.0801 - val_loss: 0.0802\n",
      "Epoch 95/100\n",
      "60000/60000 [==============================] - 2s 28us/step - loss: 0.0801 - val_loss: 0.0799\n",
      "Epoch 96/100\n",
      "60000/60000 [==============================] - 2s 29us/step - loss: 0.0801 - val_loss: 0.0800\n",
      "Epoch 97/100\n",
      "60000/60000 [==============================] - 2s 28us/step - loss: 0.0801 - val_loss: 0.0799\n",
      "Epoch 98/100\n",
      "60000/60000 [==============================] - 2s 28us/step - loss: 0.0801 - val_loss: 0.0800\n",
      "Epoch 99/100\n",
      "60000/60000 [==============================] - 2s 27us/step - loss: 0.0800 - val_loss: 0.0799\n",
      "Epoch 100/100\n",
      "60000/60000 [==============================] - 2s 28us/step - loss: 0.0800 - val_loss: 0.0799\n"
     ]
    },
    {
     "data": {
      "text/plain": [
       "<keras.callbacks.callbacks.History at 0x2911cdc8ac8>"
      ]
     },
     "execution_count": 12,
     "metadata": {},
     "output_type": "execute_result"
    }
   ],
   "source": [
    "autoencoder = keras.Model(input_img, decoded)\n",
    "autoencoder.compile(optimizer='adam', loss='binary_crossentropy')\n",
    "\n",
    "autoencoder.fit(x_train, x_train,\n",
    "                epochs=100,\n",
    "                batch_size=256,\n",
    "                shuffle=True,\n",
    "                validation_data=(x_test, x_test))"
   ]
  },
  {
   "cell_type": "code",
   "execution_count": 13,
   "id": "executive-portsmouth",
   "metadata": {},
   "outputs": [
    {
     "name": "stdout",
     "output_type": "stream",
     "text": [
      "WARNING:tensorflow:From C:\\Users\\Alvin Tu\\Anaconda3\\lib\\site-packages\\keras\\backend\\tensorflow_backend.py:4070: The name tf.nn.max_pool is deprecated. Please use tf.nn.max_pool2d instead.\n",
      "\n"
     ]
    }
   ],
   "source": [
    "input_img = keras.Input(shape=(28, 28, 1))\n",
    "\n",
    "x = layers.Conv2D(16, (3, 3), activation='relu', padding='same')(input_img)\n",
    "x = layers.MaxPooling2D((2, 2), padding='same')(x)\n",
    "x = layers.Conv2D(8, (3, 3), activation='relu', padding='same')(x)\n",
    "x = layers.MaxPooling2D((2, 2), padding='same')(x)\n",
    "x = layers.Conv2D(8, (3, 3), activation='relu', padding='same')(x)\n",
    "encoded = layers.MaxPooling2D((2, 2), padding='same')(x)\n",
    "\n",
    "# at this point the representation is (4, 4, 8) i.e. 128-dimensional\n",
    "\n",
    "x = layers.Conv2D(8, (3, 3), activation='relu', padding='same')(encoded)\n",
    "x = layers.UpSampling2D((2, 2))(x)\n",
    "x = layers.Conv2D(8, (3, 3), activation='relu', padding='same')(x)\n",
    "x = layers.UpSampling2D((2, 2))(x)\n",
    "x = layers.Conv2D(16, (3, 3), activation='relu')(x)\n",
    "x = layers.UpSampling2D((2, 2))(x)\n",
    "decoded = layers.Conv2D(1, (3, 3), activation='sigmoid', padding='same')(x)\n",
    "\n",
    "autoencoder = keras.Model(input_img, decoded)\n",
    "autoencoder.compile(optimizer='adam', loss='binary_crossentropy')"
   ]
  },
  {
   "cell_type": "code",
   "execution_count": 14,
   "id": "brave-morgan",
   "metadata": {},
   "outputs": [],
   "source": [
    "from keras.datasets import mnist\n",
    "import numpy as np\n",
    "\n",
    "(x_train, _), (x_test, _) = mnist.load_data()\n",
    "\n",
    "x_train = x_train.astype('float32') / 255.\n",
    "x_test = x_test.astype('float32') / 255.\n",
    "x_train = np.reshape(x_train, (len(x_train), 28, 28, 1))\n",
    "x_test = np.reshape(x_test, (len(x_test), 28, 28, 1))"
   ]
  },
  {
   "cell_type": "code",
   "execution_count": 16,
   "id": "rubber-criticism",
   "metadata": {},
   "outputs": [
    {
     "name": "stdout",
     "output_type": "stream",
     "text": [
      "Train on 60000 samples, validate on 10000 samples\n",
      "WARNING:tensorflow:From C:\\Users\\Alvin Tu\\Anaconda3\\lib\\site-packages\\keras\\callbacks\\tensorboard_v1.py:200: The name tf.summary.merge_all is deprecated. Please use tf.compat.v1.summary.merge_all instead.\n",
      "\n",
      "WARNING:tensorflow:From C:\\Users\\Alvin Tu\\Anaconda3\\lib\\site-packages\\keras\\callbacks\\tensorboard_v1.py:203: The name tf.summary.FileWriter is deprecated. Please use tf.compat.v1.summary.FileWriter instead.\n",
      "\n",
      "Epoch 1/50\n",
      "60000/60000 [==============================] - 57s 958us/step - loss: 0.2207 - val_loss: 0.1514\n",
      "WARNING:tensorflow:From C:\\Users\\Alvin Tu\\Anaconda3\\lib\\site-packages\\keras\\callbacks\\tensorboard_v1.py:343: The name tf.Summary is deprecated. Please use tf.compat.v1.Summary instead.\n",
      "\n",
      "Epoch 2/50\n",
      "60000/60000 [==============================] - 57s 957us/step - loss: 0.1422 - val_loss: 0.1331\n",
      "Epoch 3/50\n",
      "60000/60000 [==============================] - 55s 923us/step - loss: 0.1290 - val_loss: 0.1232\n",
      "Epoch 4/50\n",
      "60000/60000 [==============================] - 54s 895us/step - loss: 0.1215 - val_loss: 0.1175\n",
      "Epoch 5/50\n",
      "50816/60000 [========================>.....] - ETA: 8s - loss: 0.1168"
     ]
    },
    {
     "ename": "KeyboardInterrupt",
     "evalue": "",
     "output_type": "error",
     "traceback": [
      "\u001b[1;31m---------------------------------------------------------------------------\u001b[0m",
      "\u001b[1;31mKeyboardInterrupt\u001b[0m                         Traceback (most recent call last)",
      "\u001b[1;32m<ipython-input-16-3b6b3754a0be>\u001b[0m in \u001b[0;36m<module>\u001b[1;34m\u001b[0m\n\u001b[0;32m      6\u001b[0m                 \u001b[0mshuffle\u001b[0m\u001b[1;33m=\u001b[0m\u001b[1;32mTrue\u001b[0m\u001b[1;33m,\u001b[0m\u001b[1;33m\u001b[0m\u001b[1;33m\u001b[0m\u001b[0m\n\u001b[0;32m      7\u001b[0m                 \u001b[0mvalidation_data\u001b[0m\u001b[1;33m=\u001b[0m\u001b[1;33m(\u001b[0m\u001b[0mx_test\u001b[0m\u001b[1;33m,\u001b[0m \u001b[0mx_test\u001b[0m\u001b[1;33m)\u001b[0m\u001b[1;33m,\u001b[0m\u001b[1;33m\u001b[0m\u001b[1;33m\u001b[0m\u001b[0m\n\u001b[1;32m----> 8\u001b[1;33m                 callbacks=[TensorBoard(log_dir='/tmp/autoencoder')])\n\u001b[0m",
      "\u001b[1;32m~\\Anaconda3\\lib\\site-packages\\keras\\engine\\training.py\u001b[0m in \u001b[0;36mfit\u001b[1;34m(self, x, y, batch_size, epochs, verbose, callbacks, validation_split, validation_data, shuffle, class_weight, sample_weight, initial_epoch, steps_per_epoch, validation_steps, validation_freq, max_queue_size, workers, use_multiprocessing, **kwargs)\u001b[0m\n\u001b[0;32m   1237\u001b[0m                                         \u001b[0msteps_per_epoch\u001b[0m\u001b[1;33m=\u001b[0m\u001b[0msteps_per_epoch\u001b[0m\u001b[1;33m,\u001b[0m\u001b[1;33m\u001b[0m\u001b[1;33m\u001b[0m\u001b[0m\n\u001b[0;32m   1238\u001b[0m                                         \u001b[0mvalidation_steps\u001b[0m\u001b[1;33m=\u001b[0m\u001b[0mvalidation_steps\u001b[0m\u001b[1;33m,\u001b[0m\u001b[1;33m\u001b[0m\u001b[1;33m\u001b[0m\u001b[0m\n\u001b[1;32m-> 1239\u001b[1;33m                                         validation_freq=validation_freq)\n\u001b[0m\u001b[0;32m   1240\u001b[0m \u001b[1;33m\u001b[0m\u001b[0m\n\u001b[0;32m   1241\u001b[0m     def evaluate(self,\n",
      "\u001b[1;32m~\\Anaconda3\\lib\\site-packages\\keras\\engine\\training_arrays.py\u001b[0m in \u001b[0;36mfit_loop\u001b[1;34m(model, fit_function, fit_inputs, out_labels, batch_size, epochs, verbose, callbacks, val_function, val_inputs, shuffle, initial_epoch, steps_per_epoch, validation_steps, validation_freq)\u001b[0m\n\u001b[0;32m    194\u001b[0m                     \u001b[0mins_batch\u001b[0m\u001b[1;33m[\u001b[0m\u001b[0mi\u001b[0m\u001b[1;33m]\u001b[0m \u001b[1;33m=\u001b[0m \u001b[0mins_batch\u001b[0m\u001b[1;33m[\u001b[0m\u001b[0mi\u001b[0m\u001b[1;33m]\u001b[0m\u001b[1;33m.\u001b[0m\u001b[0mtoarray\u001b[0m\u001b[1;33m(\u001b[0m\u001b[1;33m)\u001b[0m\u001b[1;33m\u001b[0m\u001b[1;33m\u001b[0m\u001b[0m\n\u001b[0;32m    195\u001b[0m \u001b[1;33m\u001b[0m\u001b[0m\n\u001b[1;32m--> 196\u001b[1;33m                 \u001b[0mouts\u001b[0m \u001b[1;33m=\u001b[0m \u001b[0mfit_function\u001b[0m\u001b[1;33m(\u001b[0m\u001b[0mins_batch\u001b[0m\u001b[1;33m)\u001b[0m\u001b[1;33m\u001b[0m\u001b[1;33m\u001b[0m\u001b[0m\n\u001b[0m\u001b[0;32m    197\u001b[0m                 \u001b[0mouts\u001b[0m \u001b[1;33m=\u001b[0m \u001b[0mto_list\u001b[0m\u001b[1;33m(\u001b[0m\u001b[0mouts\u001b[0m\u001b[1;33m)\u001b[0m\u001b[1;33m\u001b[0m\u001b[1;33m\u001b[0m\u001b[0m\n\u001b[0;32m    198\u001b[0m                 \u001b[1;32mfor\u001b[0m \u001b[0ml\u001b[0m\u001b[1;33m,\u001b[0m \u001b[0mo\u001b[0m \u001b[1;32min\u001b[0m \u001b[0mzip\u001b[0m\u001b[1;33m(\u001b[0m\u001b[0mout_labels\u001b[0m\u001b[1;33m,\u001b[0m \u001b[0mouts\u001b[0m\u001b[1;33m)\u001b[0m\u001b[1;33m:\u001b[0m\u001b[1;33m\u001b[0m\u001b[1;33m\u001b[0m\u001b[0m\n",
      "\u001b[1;32m~\\Anaconda3\\lib\\site-packages\\tensorflow\\python\\keras\\backend.py\u001b[0m in \u001b[0;36m__call__\u001b[1;34m(self, inputs)\u001b[0m\n\u001b[0;32m   3290\u001b[0m \u001b[1;33m\u001b[0m\u001b[0m\n\u001b[0;32m   3291\u001b[0m     fetched = self._callable_fn(*array_vals,\n\u001b[1;32m-> 3292\u001b[1;33m                                 run_metadata=self.run_metadata)\n\u001b[0m\u001b[0;32m   3293\u001b[0m     \u001b[0mself\u001b[0m\u001b[1;33m.\u001b[0m\u001b[0m_call_fetch_callbacks\u001b[0m\u001b[1;33m(\u001b[0m\u001b[0mfetched\u001b[0m\u001b[1;33m[\u001b[0m\u001b[1;33m-\u001b[0m\u001b[0mlen\u001b[0m\u001b[1;33m(\u001b[0m\u001b[0mself\u001b[0m\u001b[1;33m.\u001b[0m\u001b[0m_fetches\u001b[0m\u001b[1;33m)\u001b[0m\u001b[1;33m:\u001b[0m\u001b[1;33m]\u001b[0m\u001b[1;33m)\u001b[0m\u001b[1;33m\u001b[0m\u001b[1;33m\u001b[0m\u001b[0m\n\u001b[0;32m   3294\u001b[0m     output_structure = nest.pack_sequence_as(\n",
      "\u001b[1;32m~\\Anaconda3\\lib\\site-packages\\tensorflow\\python\\client\\session.py\u001b[0m in \u001b[0;36m__call__\u001b[1;34m(self, *args, **kwargs)\u001b[0m\n\u001b[0;32m   1456\u001b[0m         ret = tf_session.TF_SessionRunCallable(self._session._session,\n\u001b[0;32m   1457\u001b[0m                                                \u001b[0mself\u001b[0m\u001b[1;33m.\u001b[0m\u001b[0m_handle\u001b[0m\u001b[1;33m,\u001b[0m \u001b[0margs\u001b[0m\u001b[1;33m,\u001b[0m\u001b[1;33m\u001b[0m\u001b[1;33m\u001b[0m\u001b[0m\n\u001b[1;32m-> 1458\u001b[1;33m                                                run_metadata_ptr)\n\u001b[0m\u001b[0;32m   1459\u001b[0m         \u001b[1;32mif\u001b[0m \u001b[0mrun_metadata\u001b[0m\u001b[1;33m:\u001b[0m\u001b[1;33m\u001b[0m\u001b[1;33m\u001b[0m\u001b[0m\n\u001b[0;32m   1460\u001b[0m           \u001b[0mproto_data\u001b[0m \u001b[1;33m=\u001b[0m \u001b[0mtf_session\u001b[0m\u001b[1;33m.\u001b[0m\u001b[0mTF_GetBuffer\u001b[0m\u001b[1;33m(\u001b[0m\u001b[0mrun_metadata_ptr\u001b[0m\u001b[1;33m)\u001b[0m\u001b[1;33m\u001b[0m\u001b[1;33m\u001b[0m\u001b[0m\n",
      "\u001b[1;31mKeyboardInterrupt\u001b[0m: "
     ]
    }
   ],
   "source": [
    "from keras.callbacks import TensorBoard\n",
    "\n",
    "autoencoder.fit(x_train, x_train,\n",
    "                epochs=50,\n",
    "                batch_size=128,\n",
    "                shuffle=True,\n",
    "                validation_data=(x_test, x_test),\n",
    "                callbacks=[TensorBoard(log_dir='/tmp/autoencoder')])"
   ]
  },
  {
   "cell_type": "code",
   "execution_count": 17,
   "id": "fantastic-charm",
   "metadata": {},
   "outputs": [
    {
     "data": {
      "image/png": "[encoded data removed]",
      "text/plain": [
       "<Figure size 1440x288 with 20 Axes>"
      ]
     },
     "metadata": {
      "needs_background": "light"
     },
     "output_type": "display_data"
    }
   ],
   "source": [
    "import matplotlib.pyplot as plt\n",
    "decoded_imgs = autoencoder.predict(x_test)\n",
    "\n",
    "n = 10\n",
    "plt.figure(figsize=(20, 4))\n",
    "for i in range(1, n + 1):\n",
    "    # Display original\n",
    "    ax = plt.subplot(2, n, i)\n",
    "    plt.imshow(x_test[i].reshape(28, 28))\n",
    "    plt.gray()\n",
    "    ax.get_xaxis().set_visible(False)\n",
    "    ax.get_yaxis().set_visible(False)\n",
    "\n",
    "    # Display reconstruction\n",
    "    ax = plt.subplot(2, n, i + n)\n",
    "    plt.imshow(decoded_imgs[i].reshape(28, 28))\n",
    "    plt.gray()\n",
    "    ax.get_xaxis().set_visible(False)\n",
    "    ax.get_yaxis().set_visible(False)\n",
    "plt.show()"
   ]
  },
  {
   "cell_type": "code",
   "execution_count": 18,
   "id": "genuine-flexibility",
   "metadata": {},
   "outputs": [
    {
     "data": {
      "image/png": "[encoded data removed]",
      "text/plain": [
       "<Figure size 1440x576 with 10 Axes>"
      ]
     },
     "metadata": {
      "needs_background": "light"
     },
     "output_type": "display_data"
    }
   ],
   "source": [
    "encoder = keras.Model(input_img, encoded)\n",
    "encoded_imgs = encoder.predict(x_test)\n",
    "\n",
    "n = 10\n",
    "plt.figure(figsize=(20, 8))\n",
    "for i in range(1, n + 1):\n",
    "    ax = plt.subplot(1, n, i)\n",
    "    plt.imshow(encoded_imgs[i].reshape((4, 4 * 8)).T)\n",
    "    plt.gray()\n",
    "    ax.get_xaxis().set_visible(False)\n",
    "    ax.get_yaxis().set_visible(False)\n",
    "plt.show()"
   ]
  },
  {
   "cell_type": "code",
   "execution_count": 19,
   "id": "announced-check",
   "metadata": {},
   "outputs": [],
   "source": [
    "(x_train, _), (x_test, _) = mnist.load_data()\n",
    "\n",
    "x_train = x_train.astype('float32') / 255.\n",
    "x_test = x_test.astype('float32') / 255.\n",
    "x_train = np.reshape(x_train, (len(x_train), 28, 28, 1))\n",
    "x_test = np.reshape(x_test, (len(x_test), 28, 28, 1))\n",
    "\n",
    "noise_factor = 0.5\n",
    "x_train_noisy = x_train + noise_factor * np.random.normal(loc=0.0, scale=1.0, size=x_train.shape) \n",
    "x_test_noisy = x_test + noise_factor * np.random.normal(loc=0.0, scale=1.0, size=x_test.shape) \n",
    "\n",
    "x_train_noisy = np.clip(x_train_noisy, 0., 1.)\n",
    "x_test_noisy = np.clip(x_test_noisy, 0., 1.)"
   ]
  },
  {
   "cell_type": "code",
   "execution_count": 20,
   "id": "indie-apache",
   "metadata": {},
   "outputs": [
    {
     "data": {
      "image/png": "[encoded data removed]",
      "text/plain": [
       "<Figure size 1440x144 with 10 Axes>"
      ]
     },
     "metadata": {
      "needs_background": "light"
     },
     "output_type": "display_data"
    }
   ],
   "source": [
    "n = 10\n",
    "plt.figure(figsize=(20, 2))\n",
    "for i in range(1, n + 1):\n",
    "    ax = plt.subplot(1, n, i)\n",
    "    plt.imshow(x_test_noisy[i].reshape(28, 28))\n",
    "    plt.gray()\n",
    "    ax.get_xaxis().set_visible(False)\n",
    "    ax.get_yaxis().set_visible(False)\n",
    "plt.show()"
   ]
  },
  {
   "cell_type": "code",
   "execution_count": 21,
   "id": "signal-saturn",
   "metadata": {},
   "outputs": [],
   "source": [
    "input_img = keras.Input(shape=(28, 28, 1))\n",
    "\n",
    "x = layers.Conv2D(32, (3, 3), activation='relu', padding='same')(input_img)\n",
    "x = layers.MaxPooling2D((2, 2), padding='same')(x)\n",
    "x = layers.Conv2D(32, (3, 3), activation='relu', padding='same')(x)\n",
    "encoded = layers.MaxPooling2D((2, 2), padding='same')(x)\n",
    "\n",
    "# At this point the representation is (7, 7, 32)\n",
    "\n",
    "x = layers.Conv2D(32, (3, 3), activation='relu', padding='same')(encoded)\n",
    "x = layers.UpSampling2D((2, 2))(x)\n",
    "x = layers.Conv2D(32, (3, 3), activation='relu', padding='same')(x)\n",
    "x = layers.UpSampling2D((2, 2))(x)\n",
    "decoded = layers.Conv2D(1, (3, 3), activation='sigmoid', padding='same')(x)\n",
    "\n",
    "autoencoder = keras.Model(input_img, decoded)\n",
    "autoencoder.compile(optimizer='adam', loss='binary_crossentropy')"
   ]
  },
  {
   "cell_type": "code",
   "execution_count": 22,
   "id": "directed-recovery",
   "metadata": {},
   "outputs": [
    {
     "name": "stdout",
     "output_type": "stream",
     "text": [
      "Train on 60000 samples, validate on 10000 samples\n",
      "Epoch 1/100\n",
      " 3968/60000 [>.............................] - ETA: 1:26 - loss: 0.4716"
     ]
    },
    {
     "ename": "KeyboardInterrupt",
     "evalue": "",
     "output_type": "error",
     "traceback": [
      "\u001b[1;31m---------------------------------------------------------------------------\u001b[0m",
      "\u001b[1;31mKeyboardInterrupt\u001b[0m                         Traceback (most recent call last)",
      "\u001b[1;32m<ipython-input-22-da20e16ed7be>\u001b[0m in \u001b[0;36m<module>\u001b[1;34m\u001b[0m\n\u001b[0;32m      4\u001b[0m                 \u001b[0mshuffle\u001b[0m\u001b[1;33m=\u001b[0m\u001b[1;32mTrue\u001b[0m\u001b[1;33m,\u001b[0m\u001b[1;33m\u001b[0m\u001b[1;33m\u001b[0m\u001b[0m\n\u001b[0;32m      5\u001b[0m                 \u001b[0mvalidation_data\u001b[0m\u001b[1;33m=\u001b[0m\u001b[1;33m(\u001b[0m\u001b[0mx_test_noisy\u001b[0m\u001b[1;33m,\u001b[0m \u001b[0mx_test\u001b[0m\u001b[1;33m)\u001b[0m\u001b[1;33m,\u001b[0m\u001b[1;33m\u001b[0m\u001b[1;33m\u001b[0m\u001b[0m\n\u001b[1;32m----> 6\u001b[1;33m                 callbacks=[TensorBoard(log_dir='/tmp/tb', histogram_freq=0, write_graph=False)])\n\u001b[0m",
      "\u001b[1;32m~\\Anaconda3\\lib\\site-packages\\keras\\engine\\training.py\u001b[0m in \u001b[0;36mfit\u001b[1;34m(self, x, y, batch_size, epochs, verbose, callbacks, validation_split, validation_data, shuffle, class_weight, sample_weight, initial_epoch, steps_per_epoch, validation_steps, validation_freq, max_queue_size, workers, use_multiprocessing, **kwargs)\u001b[0m\n\u001b[0;32m   1237\u001b[0m                                         \u001b[0msteps_per_epoch\u001b[0m\u001b[1;33m=\u001b[0m\u001b[0msteps_per_epoch\u001b[0m\u001b[1;33m,\u001b[0m\u001b[1;33m\u001b[0m\u001b[1;33m\u001b[0m\u001b[0m\n\u001b[0;32m   1238\u001b[0m                                         \u001b[0mvalidation_steps\u001b[0m\u001b[1;33m=\u001b[0m\u001b[0mvalidation_steps\u001b[0m\u001b[1;33m,\u001b[0m\u001b[1;33m\u001b[0m\u001b[1;33m\u001b[0m\u001b[0m\n\u001b[1;32m-> 1239\u001b[1;33m                                         validation_freq=validation_freq)\n\u001b[0m\u001b[0;32m   1240\u001b[0m \u001b[1;33m\u001b[0m\u001b[0m\n\u001b[0;32m   1241\u001b[0m     def evaluate(self,\n",
      "\u001b[1;32m~\\Anaconda3\\lib\\site-packages\\keras\\engine\\training_arrays.py\u001b[0m in \u001b[0;36mfit_loop\u001b[1;34m(model, fit_function, fit_inputs, out_labels, batch_size, epochs, verbose, callbacks, val_function, val_inputs, shuffle, initial_epoch, steps_per_epoch, validation_steps, validation_freq)\u001b[0m\n\u001b[0;32m    194\u001b[0m                     \u001b[0mins_batch\u001b[0m\u001b[1;33m[\u001b[0m\u001b[0mi\u001b[0m\u001b[1;33m]\u001b[0m \u001b[1;33m=\u001b[0m \u001b[0mins_batch\u001b[0m\u001b[1;33m[\u001b[0m\u001b[0mi\u001b[0m\u001b[1;33m]\u001b[0m\u001b[1;33m.\u001b[0m\u001b[0mtoarray\u001b[0m\u001b[1;33m(\u001b[0m\u001b[1;33m)\u001b[0m\u001b[1;33m\u001b[0m\u001b[1;33m\u001b[0m\u001b[0m\n\u001b[0;32m    195\u001b[0m \u001b[1;33m\u001b[0m\u001b[0m\n\u001b[1;32m--> 196\u001b[1;33m                 \u001b[0mouts\u001b[0m \u001b[1;33m=\u001b[0m \u001b[0mfit_function\u001b[0m\u001b[1;33m(\u001b[0m\u001b[0mins_batch\u001b[0m\u001b[1;33m)\u001b[0m\u001b[1;33m\u001b[0m\u001b[1;33m\u001b[0m\u001b[0m\n\u001b[0m\u001b[0;32m    197\u001b[0m                 \u001b[0mouts\u001b[0m \u001b[1;33m=\u001b[0m \u001b[0mto_list\u001b[0m\u001b[1;33m(\u001b[0m\u001b[0mouts\u001b[0m\u001b[1;33m)\u001b[0m\u001b[1;33m\u001b[0m\u001b[1;33m\u001b[0m\u001b[0m\n\u001b[0;32m    198\u001b[0m                 \u001b[1;32mfor\u001b[0m \u001b[0ml\u001b[0m\u001b[1;33m,\u001b[0m \u001b[0mo\u001b[0m \u001b[1;32min\u001b[0m \u001b[0mzip\u001b[0m\u001b[1;33m(\u001b[0m\u001b[0mout_labels\u001b[0m\u001b[1;33m,\u001b[0m \u001b[0mouts\u001b[0m\u001b[1;33m)\u001b[0m\u001b[1;33m:\u001b[0m\u001b[1;33m\u001b[0m\u001b[1;33m\u001b[0m\u001b[0m\n",
      "\u001b[1;32m~\\Anaconda3\\lib\\site-packages\\tensorflow\\python\\keras\\backend.py\u001b[0m in \u001b[0;36m__call__\u001b[1;34m(self, inputs)\u001b[0m\n\u001b[0;32m   3290\u001b[0m \u001b[1;33m\u001b[0m\u001b[0m\n\u001b[0;32m   3291\u001b[0m     fetched = self._callable_fn(*array_vals,\n\u001b[1;32m-> 3292\u001b[1;33m                                 run_metadata=self.run_metadata)\n\u001b[0m\u001b[0;32m   3293\u001b[0m     \u001b[0mself\u001b[0m\u001b[1;33m.\u001b[0m\u001b[0m_call_fetch_callbacks\u001b[0m\u001b[1;33m(\u001b[0m\u001b[0mfetched\u001b[0m\u001b[1;33m[\u001b[0m\u001b[1;33m-\u001b[0m\u001b[0mlen\u001b[0m\u001b[1;33m(\u001b[0m\u001b[0mself\u001b[0m\u001b[1;33m.\u001b[0m\u001b[0m_fetches\u001b[0m\u001b[1;33m)\u001b[0m\u001b[1;33m:\u001b[0m\u001b[1;33m]\u001b[0m\u001b[1;33m)\u001b[0m\u001b[1;33m\u001b[0m\u001b[1;33m\u001b[0m\u001b[0m\n\u001b[0;32m   3294\u001b[0m     output_structure = nest.pack_sequence_as(\n",
      "\u001b[1;32m~\\Anaconda3\\lib\\site-packages\\tensorflow\\python\\client\\session.py\u001b[0m in \u001b[0;36m__call__\u001b[1;34m(self, *args, **kwargs)\u001b[0m\n\u001b[0;32m   1456\u001b[0m         ret = tf_session.TF_SessionRunCallable(self._session._session,\n\u001b[0;32m   1457\u001b[0m                                                \u001b[0mself\u001b[0m\u001b[1;33m.\u001b[0m\u001b[0m_handle\u001b[0m\u001b[1;33m,\u001b[0m \u001b[0margs\u001b[0m\u001b[1;33m,\u001b[0m\u001b[1;33m\u001b[0m\u001b[1;33m\u001b[0m\u001b[0m\n\u001b[1;32m-> 1458\u001b[1;33m                                                run_metadata_ptr)\n\u001b[0m\u001b[0;32m   1459\u001b[0m         \u001b[1;32mif\u001b[0m \u001b[0mrun_metadata\u001b[0m\u001b[1;33m:\u001b[0m\u001b[1;33m\u001b[0m\u001b[1;33m\u001b[0m\u001b[0m\n\u001b[0;32m   1460\u001b[0m           \u001b[0mproto_data\u001b[0m \u001b[1;33m=\u001b[0m \u001b[0mtf_session\u001b[0m\u001b[1;33m.\u001b[0m\u001b[0mTF_GetBuffer\u001b[0m\u001b[1;33m(\u001b[0m\u001b[0mrun_metadata_ptr\u001b[0m\u001b[1;33m)\u001b[0m\u001b[1;33m\u001b[0m\u001b[1;33m\u001b[0m\u001b[0m\n",
      "\u001b[1;31mKeyboardInterrupt\u001b[0m: "
     ]
    }
   ],
   "source": [
    "autoencoder.fit(x_train_noisy, x_train,\n",
    "                epochs=100,\n",
    "                batch_size=128,\n",
    "                shuffle=True,\n",
    "                validation_data=(x_test_noisy, x_test),\n",
    "                callbacks=[TensorBoard(log_dir='/tmp/tb', histogram_freq=0, write_graph=False)])"
   ]
  },
  {
   "cell_type": "code",
   "execution_count": null,
   "id": "wrapped-friend",
   "metadata": {},
   "outputs": [],
   "source": [
    "timesteps = ...  # Length of your sequences\n",
    "input_dim = ... \n",
    "latent_dim = ...\n",
    "\n",
    "inputs = keras.Input(shape=(timesteps, input_dim))\n",
    "encoded = layers.LSTM(latent_dim)(inputs)\n",
    "\n",
    "decoded = layers.RepeatVector(timesteps)(encoded)\n",
    "decoded = layers.LSTM(input_dim, return_sequences=True)(decoded)\n",
    "\n",
    "sequence_autoencoder = keras.Model(inputs, decoded)\n",
    "encoder = keras.Model(inputs, encoded)"
   ]
  },
  {
   "cell_type": "code",
   "execution_count": null,
   "id": "champion-energy",
   "metadata": {},
   "outputs": [],
   "source": [
    "original_dim = 28 * 28\n",
    "intermediate_dim = 64\n",
    "latent_dim = 2\n",
    "\n",
    "inputs = keras.Input(shape=(original_dim,))\n",
    "h = layers.Dense(intermediate_dim, activation='relu')(inputs)\n",
    "z_mean = layers.Dense(latent_dim)(h)\n",
    "z_log_sigma = layers.Dense(latent_dim)(h)"
   ]
  },
  {
   "cell_type": "code",
   "execution_count": null,
   "id": "established-professor",
   "metadata": {},
   "outputs": [],
   "source": [
    "from keras import backend as K\n",
    "\n",
    "def sampling(args):\n",
    "    z_mean, z_log_sigma = args\n",
    "    epsilon = K.random_normal(shape=(K.shape(z_mean)[0], latent_dim),\n",
    "                              mean=0., stddev=0.1)\n",
    "    return z_mean + K.exp(z_log_sigma) * epsilon\n",
    "\n",
    "z = layers.Lambda(sampling)([z_mean, z_log_sigma])"
   ]
  },
  {
   "cell_type": "code",
   "execution_count": null,
   "id": "manufactured-coordinator",
   "metadata": {},
   "outputs": [],
   "source": [
    "# Create encoder\n",
    "encoder = keras.Model(inputs, [z_mean, z_log_sigma, z], name='encoder')\n",
    "\n",
    "# Create decoder\n",
    "latent_inputs = keras.Input(shape=(latent_dim,), name='z_sampling')\n",
    "x = layers.Dense(intermediate_dim, activation='relu')(latent_inputs)\n",
    "outputs = layers.Dense(original_dim, activation='sigmoid')(x)\n",
    "decoder = keras.Model(latent_inputs, outputs, name='decoder')\n",
    "\n",
    "# instantiate VAE model\n",
    "outputs = decoder(encoder(inputs)[2])\n",
    "vae = keras.Model(inputs, outputs, name='vae_mlp')"
   ]
  },
  {
   "cell_type": "code",
   "execution_count": null,
   "id": "several-possible",
   "metadata": {},
   "outputs": [],
   "source": [
    "reconstruction_loss = keras.losses.binary_crossentropy(inputs, outputs)\n",
    "reconstruction_loss *= original_dim\n",
    "kl_loss = 1 + z_log_sigma - K.square(z_mean) - K.exp(z_log_sigma)\n",
    "kl_loss = K.sum(kl_loss, axis=-1)\n",
    "kl_loss *= -0.5\n",
    "vae_loss = K.mean(reconstruction_loss + kl_loss)\n",
    "vae.add_loss(vae_loss)\n",
    "vae.compile(optimizer='adam')"
   ]
  },
  {
   "cell_type": "code",
   "execution_count": null,
   "id": "sixth-underwear",
   "metadata": {},
   "outputs": [],
   "source": [
    "(x_train, y_train), (x_test, y_test) = mnist.load_data()\n",
    "\n",
    "x_train = x_train.astype('float32') / 255.\n",
    "x_test = x_test.astype('float32') / 255.\n",
    "x_train = x_train.reshape((len(x_train), np.prod(x_train.shape[1:])))\n",
    "x_test = x_test.reshape((len(x_test), np.prod(x_test.shape[1:])))\n",
    "\n",
    "vae.fit(x_train, x_train,\n",
    "        epochs=100,\n",
    "        batch_size=32,\n",
    "        validation_data=(x_test, x_test))"
   ]
  },
  {
   "cell_type": "code",
   "execution_count": null,
   "id": "governmental-constant",
   "metadata": {},
   "outputs": [],
   "source": [
    "x_test_encoded = encoder.predict(x_test, batch_size=batch_size)\n",
    "plt.figure(figsize=(6, 6))\n",
    "plt.scatter(x_test_encoded[:, 0], x_test_encoded[:, 1], c=y_test)\n",
    "plt.colorbar()\n",
    "plt.show()"
   ]
  },
  {
   "cell_type": "code",
   "execution_count": null,
   "id": "italian-certificate",
   "metadata": {},
   "outputs": [],
   "source": [
    "# Display a 2D manifold of the digits\n",
    "n = 15  # figure with 15x15 digits\n",
    "digit_size = 28\n",
    "figure = np.zeros((digit_size * n, digit_size * n))\n",
    "# We will sample n points within [-15, 15] standard deviations\n",
    "grid_x = np.linspace(-15, 15, n)\n",
    "grid_y = np.linspace(-15, 15, n)\n",
    "\n",
    "for i, yi in enumerate(grid_x):\n",
    "    for j, xi in enumerate(grid_y):\n",
    "        z_sample = np.array([[xi, yi]])\n",
    "        x_decoded = decoder.predict(z_sample)\n",
    "        digit = x_decoded[0].reshape(digit_size, digit_size)\n",
    "        figure[i * digit_size: (i + 1) * digit_size,\n",
    "               j * digit_size: (j + 1) * digit_size] = digit\n",
    "\n",
    "plt.figure(figsize=(10, 10))\n",
    "plt.imshow(figure)\n",
    "plt.show()"
   ]
  }
 ],
 "metadata": {
  "kernelspec": {
   "display_name": "Python 3",
   "language": "python",
   "name": "python3"
  },
  "language_info": {
   "codemirror_mode": {
    "name": "ipython",
    "version": 3
   },
   "file_extension": ".py",
   "mimetype": "text/x-python",
   "name": "python",
   "nbconvert_exporter": "python",
   "pygments_lexer": "ipython3",
   "version": "3.7.3"
  }
 },
 "nbformat": 4,
 "nbformat_minor": 5
}
